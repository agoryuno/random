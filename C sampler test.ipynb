{
 "cells": [
  {
   "cell_type": "code",
   "execution_count": 1,
   "id": "a4c3110c",
   "metadata": {},
   "outputs": [],
   "source": [
    "import ctypes\n",
    "lib = ctypes.CDLL(\"./alias_sample.so\")"
   ]
  },
  {
   "cell_type": "code",
   "execution_count": 2,
   "id": "f0bdb022-5e8c-4d51-a67d-67c08f0688ba",
   "metadata": {},
   "outputs": [],
   "source": [
    "# Define the function prototype\n",
    "sample_values_prototype = ctypes.CFUNCTYPE(\n",
    "    ctypes.POINTER(ctypes.c_int),  # return type: int*\n",
    "    ctypes.POINTER(ctypes.c_int),  # parameter type: int*\n",
    "    ctypes.POINTER(ctypes.c_double),  # parameter type: double*\n",
    "    ctypes.c_int,  # parameter type: int\n",
    "    ctypes.c_int   # parameter type: int\n",
    ")\n",
    "\n",
    "# Define the argtypes\n",
    "sample_values_prototype.argtypes = [\n",
    "    ctypes.POINTER(ctypes.c_int),  # int* v\n",
    "    ctypes.POINTER(ctypes.c_double),  # double* p\n",
    "    ctypes.c_int,  # int K\n",
    "    ctypes.c_int   # int N\n",
    "]\n",
    "\n",
    "\n",
    "# Get the function\n",
    "sample_values_func = lib.sample_values\n",
    "sample_values_func.argtypes = sample_values_prototype.argtypes\n",
    "sample_values_func.restype = ctypes.POINTER(ctypes.c_int)  # Return type is int*\n",
    "\n",
    "# Define sample_func to handle lists\n",
    "def sample_func(v_list, p_list, K, N):\n",
    "    # Convert lists to ctypes arrays\n",
    "    v_array = (ctypes.c_int * len(v_list))(*v_list)\n",
    "    p_array = (ctypes.c_double * len(p_list))(*p_list)\n",
    "    \n",
    "    # Call the function\n",
    "    result = sample_values_func(v_array, p_array, K, N)\n",
    "    \n",
    "    # Convert result back to Python list\n",
    "    result_list = [result[i] for i in range(N)]\n",
    "    \n",
    "    return result_list\n"
   ]
  },
  {
   "cell_type": "code",
   "execution_count": 3,
   "id": "9504abd5-5b7e-4e44-b657-1410b4c14e92",
   "metadata": {},
   "outputs": [],
   "source": [
    "def softmax(x):\n",
    "    return np.exp(x) / np.sum(np.exp(x), axis=0)\n"
   ]
  },
  {
   "cell_type": "code",
   "execution_count": 4,
   "id": "04b2a2c4-3704-486c-bbed-ea7aadc8a692",
   "metadata": {},
   "outputs": [],
   "source": [
    "import numpy as np\n",
    "vs = [i for i in range(495)]\n",
    "ps = softmax([np.random.normal() for _ in range(495)])"
   ]
  },
  {
   "cell_type": "code",
   "execution_count": null,
   "id": "9a02cdc5-a154-432b-943d-fced0fe8144d",
   "metadata": {},
   "outputs": [],
   "source": [
    "sample_func(vs, ps, 495, 10)"
   ]
  },
  {
   "cell_type": "code",
   "execution_count": 9,
   "id": "0c5e1fae-4527-4c38-8260-2c25a416b6cc",
   "metadata": {},
   "outputs": [
    {
     "name": "stdout",
     "output_type": "stream",
     "text": [
      "154 µs ± 4.39 µs per loop (mean ± std. dev. of 7 runs, 10,000 loops each)\n"
     ]
    }
   ],
   "source": [
    "%timeit np.random.choice(vs, 10, False, ps)"
   ]
  },
  {
   "cell_type": "code",
   "execution_count": 15,
   "id": "97163e33-49fc-4149-8990-9a45c1eec1c1",
   "metadata": {},
   "outputs": [],
   "source": [
    "c_dct = {i:0 for i in range(495)}\n",
    "for _ in range(2000):\n",
    "    res = sample_func(vs,ps, 495, 10)\n",
    "    for i in res:\n",
    "        try:\n",
    "            c_dct[i] += 1\n",
    "        except:\n",
    "            print (res)\n",
    "            raise\n",
    "    "
   ]
  },
  {
   "cell_type": "code",
   "execution_count": 32,
   "id": "a4c66d12-9158-4a88-b05c-7fdebcfeab85",
   "metadata": {},
   "outputs": [
    {
     "data": {
      "text/plain": [
       "9.0"
      ]
     },
     "execution_count": 32,
     "metadata": {},
     "output_type": "execute_result"
    }
   ],
   "source": [
    "import numpy as np\n",
    "np.log2(512)"
   ]
  },
  {
   "cell_type": "code",
   "execution_count": 35,
   "id": "5b142aad-de22-4bc8-9d5d-2ca2bf663d5a",
   "metadata": {},
   "outputs": [
    {
     "name": "stdout",
     "output_type": "stream",
     "text": [
      "1.5\n"
     ]
    }
   ],
   "source": [
    "integer_part = 0b0  # Representing the integer part\n",
    "fractional_part = 0b001100000 / (2 ** 1)  # Representing the fractional part, dividing by 2 raised to the power of position\n",
    "binary_number = integer_part + fractional_part  # Combining the integer and fractional parts\n",
    "\n",
    "print(binary_number)  # Output: 1.5"
   ]
  },
  {
   "cell_type": "code",
   "execution_count": 36,
   "id": "fbc0a99c-3b20-4850-9848-a39d733ca355",
   "metadata": {},
   "outputs": [
    {
     "ename": "SyntaxError",
     "evalue": "invalid syntax (3605067562.py, line 1)",
     "output_type": "error",
     "traceback": [
      "\u001b[0;36m  Cell \u001b[0;32mIn[36], line 1\u001b[0;36m\u001b[0m\n\u001b[0;31m    0b0.001100000\u001b[0m\n\u001b[0m       ^\u001b[0m\n\u001b[0;31mSyntaxError\u001b[0m\u001b[0;31m:\u001b[0m invalid syntax\n"
     ]
    }
   ],
   "source": []
  },
  {
   "cell_type": "code",
   "execution_count": 31,
   "id": "6a870d37-b138-4db2-84a4-20b02062b298",
   "metadata": {},
   "outputs": [
    {
     "data": {
      "text/plain": [
       "512"
      ]
     },
     "execution_count": 31,
     "metadata": {},
     "output_type": "execute_result"
    }
   ],
   "source": [
    "2**9"
   ]
  }
 ],
 "metadata": {
  "kernelspec": {
   "display_name": "Python 3 (ipykernel)",
   "language": "python",
   "name": "python3"
  },
  "language_info": {
   "codemirror_mode": {
    "name": "ipython",
    "version": 3
   },
   "file_extension": ".py",
   "mimetype": "text/x-python",
   "name": "python",
   "nbconvert_exporter": "python",
   "pygments_lexer": "ipython3",
   "version": "3.11.4"
  }
 },
 "nbformat": 4,
 "nbformat_minor": 5
}
